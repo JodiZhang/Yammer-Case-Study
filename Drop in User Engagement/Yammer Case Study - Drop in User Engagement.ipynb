{
 "cells": [
  {
   "cell_type": "markdown",
   "metadata": {},
   "source": [
    "### Import Libraries"
   ]
  },
  {
   "cell_type": "code",
   "execution_count": 2,
   "metadata": {},
   "outputs": [],
   "source": [
    "import pandas as pd\n",
    "import numpy as np\n",
    "import seaborn as sns\n",
    "import matplotlib.pyplot as plt\n",
    "import plotly.graph_objects as go\n",
    "import plotly.express as px\n",
    "# import chart_studio.plotly as py\n",
    "import plotly.io as pio\n",
    "import pandasql\n",
    "from glob import glob"
   ]
  },
  {
   "cell_type": "markdown",
   "metadata": {},
   "source": [
    "### Load Data Files"
   ]
  },
  {
   "cell_type": "code",
   "execution_count": 3,
   "metadata": {},
   "outputs": [],
   "source": [
    "filenames = glob('Data Sets/yammer_events*.csv')\n",
    "df = [pd.read_csv(f) for f in filenames]\n",
    "\n",
    "yammer_events = df[0].append(df[1])\n",
    "yammer_events = yammer_events.append(df[2])"
   ]
  },
  {
   "cell_type": "code",
   "execution_count": 4,
   "metadata": {},
   "outputs": [],
   "source": [
    "yammer_emails = pd.read_csv('Data Sets/yammer_emails.csv')\n",
    "roll_up = pd.read_csv('Data Sets/dimension_rollup_periods.csv')\n",
    "yammer_users = pd.read_csv('Data Sets/yammer_users.csv')"
   ]
  },
  {
   "cell_type": "markdown",
   "metadata": {},
   "source": [
    "### Case Problem\n",
    "Product team noticed a drop in Weekly active users, our goal is to determine why there was a dip in engagement in the chart below: "
   ]
  },
  {
   "cell_type": "code",
   "execution_count": 5,
   "metadata": {},
   "outputs": [
    {
     "data": {
      "text/html": [
       "<div>\n",
       "<style scoped>\n",
       "    .dataframe tbody tr th:only-of-type {\n",
       "        vertical-align: middle;\n",
       "    }\n",
       "\n",
       "    .dataframe tbody tr th {\n",
       "        vertical-align: top;\n",
       "    }\n",
       "\n",
       "    .dataframe thead th {\n",
       "        text-align: right;\n",
       "    }\n",
       "</style>\n",
       "<table border=\"1\" class=\"dataframe\">\n",
       "  <thead>\n",
       "    <tr style=\"text-align: right;\">\n",
       "      <th></th>\n",
       "      <th>week</th>\n",
       "      <th>weekly_active_users</th>\n",
       "    </tr>\n",
       "  </thead>\n",
       "  <tbody>\n",
       "    <tr>\n",
       "      <td>0</td>\n",
       "      <td>2014-04-28</td>\n",
       "      <td>701</td>\n",
       "    </tr>\n",
       "    <tr>\n",
       "      <td>1</td>\n",
       "      <td>2014-05-05</td>\n",
       "      <td>1054</td>\n",
       "    </tr>\n",
       "    <tr>\n",
       "      <td>2</td>\n",
       "      <td>2014-05-12</td>\n",
       "      <td>1094</td>\n",
       "    </tr>\n",
       "    <tr>\n",
       "      <td>3</td>\n",
       "      <td>2014-05-19</td>\n",
       "      <td>1147</td>\n",
       "    </tr>\n",
       "    <tr>\n",
       "      <td>4</td>\n",
       "      <td>2014-05-26</td>\n",
       "      <td>1113</td>\n",
       "    </tr>\n",
       "  </tbody>\n",
       "</table>\n",
       "</div>"
      ],
      "text/plain": [
       "         week  weekly_active_users\n",
       "0  2014-04-28                  701\n",
       "1  2014-05-05                 1054\n",
       "2  2014-05-12                 1094\n",
       "3  2014-05-19                 1147\n",
       "4  2014-05-26                 1113"
      ]
     },
     "execution_count": 5,
     "metadata": {},
     "output_type": "execute_result"
    }
   ],
   "source": [
    "weekly_active_users = pandasql.sqldf(\"SELECT strftime('%Y-%m-%d', occurred_at,'weekday 0','-6 days') as week,\\\n",
    "                                             COUNT(DISTINCT user_id) as weekly_active_users\\\n",
    "                                      FROM yammer_events\\\n",
    "                                      WHERE event_type='engagement'\\\n",
    "                                      AND occurred_at >= '2014-05-01'\\\n",
    "                                      GROUP BY 1\\\n",
    "                                      ORDER BY 1;\", globals()) \n",
    "weekly_active_users.head()"
   ]
  },
  {
   "cell_type": "code",
   "execution_count": 16,
   "metadata": {},
   "outputs": [
    {
     "data": {
      "application/vnd.plotly.v1+json": {
       "config": {
        "plotlyServerURL": "https://plot.ly"
       },
       "data": [
        {
         "mode": "lines",
         "name": "number of users",
         "type": "scatter",
         "x": [
          "2014-04-28",
          "2014-05-05",
          "2014-05-12",
          "2014-05-19",
          "2014-05-26",
          "2014-06-02",
          "2014-06-09",
          "2014-06-16",
          "2014-06-23",
          "2014-06-30",
          "2014-07-07",
          "2014-07-14",
          "2014-07-21",
          "2014-07-28",
          "2014-08-04",
          "2014-08-11",
          "2014-08-18",
          "2014-08-25"
         ],
         "y": [
          701,
          1054,
          1094,
          1147,
          1113,
          1173,
          1219,
          1263,
          1249,
          1271,
          1355,
          1345,
          1363,
          1443,
          1266,
          1215,
          1203,
          1194
         ]
        }
       ],
       "layout": {
        "autosize": true,
        "template": {
         "data": {
          "bar": [
           {
            "error_x": {
             "color": "#2a3f5f"
            },
            "error_y": {
             "color": "#2a3f5f"
            },
            "marker": {
             "line": {
              "color": "#E5ECF6",
              "width": 0.5
             }
            },
            "type": "bar"
           }
          ],
          "barpolar": [
           {
            "marker": {
             "line": {
              "color": "#E5ECF6",
              "width": 0.5
             }
            },
            "type": "barpolar"
           }
          ],
          "carpet": [
           {
            "aaxis": {
             "endlinecolor": "#2a3f5f",
             "gridcolor": "white",
             "linecolor": "white",
             "minorgridcolor": "white",
             "startlinecolor": "#2a3f5f"
            },
            "baxis": {
             "endlinecolor": "#2a3f5f",
             "gridcolor": "white",
             "linecolor": "white",
             "minorgridcolor": "white",
             "startlinecolor": "#2a3f5f"
            },
            "type": "carpet"
           }
          ],
          "choropleth": [
           {
            "colorbar": {
             "outlinewidth": 0,
             "ticks": ""
            },
            "type": "choropleth"
           }
          ],
          "contour": [
           {
            "colorbar": {
             "outlinewidth": 0,
             "ticks": ""
            },
            "colorscale": [
             [
              0,
              "#0d0887"
             ],
             [
              0.1111111111111111,
              "#46039f"
             ],
             [
              0.2222222222222222,
              "#7201a8"
             ],
             [
              0.3333333333333333,
              "#9c179e"
             ],
             [
              0.4444444444444444,
              "#bd3786"
             ],
             [
              0.5555555555555556,
              "#d8576b"
             ],
             [
              0.6666666666666666,
              "#ed7953"
             ],
             [
              0.7777777777777778,
              "#fb9f3a"
             ],
             [
              0.8888888888888888,
              "#fdca26"
             ],
             [
              1,
              "#f0f921"
             ]
            ],
            "type": "contour"
           }
          ],
          "contourcarpet": [
           {
            "colorbar": {
             "outlinewidth": 0,
             "ticks": ""
            },
            "type": "contourcarpet"
           }
          ],
          "heatmap": [
           {
            "colorbar": {
             "outlinewidth": 0,
             "ticks": ""
            },
            "colorscale": [
             [
              0,
              "#0d0887"
             ],
             [
              0.1111111111111111,
              "#46039f"
             ],
             [
              0.2222222222222222,
              "#7201a8"
             ],
             [
              0.3333333333333333,
              "#9c179e"
             ],
             [
              0.4444444444444444,
              "#bd3786"
             ],
             [
              0.5555555555555556,
              "#d8576b"
             ],
             [
              0.6666666666666666,
              "#ed7953"
             ],
             [
              0.7777777777777778,
              "#fb9f3a"
             ],
             [
              0.8888888888888888,
              "#fdca26"
             ],
             [
              1,
              "#f0f921"
             ]
            ],
            "type": "heatmap"
           }
          ],
          "heatmapgl": [
           {
            "colorbar": {
             "outlinewidth": 0,
             "ticks": ""
            },
            "colorscale": [
             [
              0,
              "#0d0887"
             ],
             [
              0.1111111111111111,
              "#46039f"
             ],
             [
              0.2222222222222222,
              "#7201a8"
             ],
             [
              0.3333333333333333,
              "#9c179e"
             ],
             [
              0.4444444444444444,
              "#bd3786"
             ],
             [
              0.5555555555555556,
              "#d8576b"
             ],
             [
              0.6666666666666666,
              "#ed7953"
             ],
             [
              0.7777777777777778,
              "#fb9f3a"
             ],
             [
              0.8888888888888888,
              "#fdca26"
             ],
             [
              1,
              "#f0f921"
             ]
            ],
            "type": "heatmapgl"
           }
          ],
          "histogram": [
           {
            "marker": {
             "colorbar": {
              "outlinewidth": 0,
              "ticks": ""
             }
            },
            "type": "histogram"
           }
          ],
          "histogram2d": [
           {
            "colorbar": {
             "outlinewidth": 0,
             "ticks": ""
            },
            "colorscale": [
             [
              0,
              "#0d0887"
             ],
             [
              0.1111111111111111,
              "#46039f"
             ],
             [
              0.2222222222222222,
              "#7201a8"
             ],
             [
              0.3333333333333333,
              "#9c179e"
             ],
             [
              0.4444444444444444,
              "#bd3786"
             ],
             [
              0.5555555555555556,
              "#d8576b"
             ],
             [
              0.6666666666666666,
              "#ed7953"
             ],
             [
              0.7777777777777778,
              "#fb9f3a"
             ],
             [
              0.8888888888888888,
              "#fdca26"
             ],
             [
              1,
              "#f0f921"
             ]
            ],
            "type": "histogram2d"
           }
          ],
          "histogram2dcontour": [
           {
            "colorbar": {
             "outlinewidth": 0,
             "ticks": ""
            },
            "colorscale": [
             [
              0,
              "#0d0887"
             ],
             [
              0.1111111111111111,
              "#46039f"
             ],
             [
              0.2222222222222222,
              "#7201a8"
             ],
             [
              0.3333333333333333,
              "#9c179e"
             ],
             [
              0.4444444444444444,
              "#bd3786"
             ],
             [
              0.5555555555555556,
              "#d8576b"
             ],
             [
              0.6666666666666666,
              "#ed7953"
             ],
             [
              0.7777777777777778,
              "#fb9f3a"
             ],
             [
              0.8888888888888888,
              "#fdca26"
             ],
             [
              1,
              "#f0f921"
             ]
            ],
            "type": "histogram2dcontour"
           }
          ],
          "mesh3d": [
           {
            "colorbar": {
             "outlinewidth": 0,
             "ticks": ""
            },
            "type": "mesh3d"
           }
          ],
          "parcoords": [
           {
            "line": {
             "colorbar": {
              "outlinewidth": 0,
              "ticks": ""
             }
            },
            "type": "parcoords"
           }
          ],
          "pie": [
           {
            "automargin": true,
            "type": "pie"
           }
          ],
          "scatter": [
           {
            "marker": {
             "colorbar": {
              "outlinewidth": 0,
              "ticks": ""
             }
            },
            "type": "scatter"
           }
          ],
          "scatter3d": [
           {
            "line": {
             "colorbar": {
              "outlinewidth": 0,
              "ticks": ""
             }
            },
            "marker": {
             "colorbar": {
              "outlinewidth": 0,
              "ticks": ""
             }
            },
            "type": "scatter3d"
           }
          ],
          "scattercarpet": [
           {
            "marker": {
             "colorbar": {
              "outlinewidth": 0,
              "ticks": ""
             }
            },
            "type": "scattercarpet"
           }
          ],
          "scattergeo": [
           {
            "marker": {
             "colorbar": {
              "outlinewidth": 0,
              "ticks": ""
             }
            },
            "type": "scattergeo"
           }
          ],
          "scattergl": [
           {
            "marker": {
             "colorbar": {
              "outlinewidth": 0,
              "ticks": ""
             }
            },
            "type": "scattergl"
           }
          ],
          "scattermapbox": [
           {
            "marker": {
             "colorbar": {
              "outlinewidth": 0,
              "ticks": ""
             }
            },
            "type": "scattermapbox"
           }
          ],
          "scatterpolar": [
           {
            "marker": {
             "colorbar": {
              "outlinewidth": 0,
              "ticks": ""
             }
            },
            "type": "scatterpolar"
           }
          ],
          "scatterpolargl": [
           {
            "marker": {
             "colorbar": {
              "outlinewidth": 0,
              "ticks": ""
             }
            },
            "type": "scatterpolargl"
           }
          ],
          "scatterternary": [
           {
            "marker": {
             "colorbar": {
              "outlinewidth": 0,
              "ticks": ""
             }
            },
            "type": "scatterternary"
           }
          ],
          "surface": [
           {
            "colorbar": {
             "outlinewidth": 0,
             "ticks": ""
            },
            "colorscale": [
             [
              0,
              "#0d0887"
             ],
             [
              0.1111111111111111,
              "#46039f"
             ],
             [
              0.2222222222222222,
              "#7201a8"
             ],
             [
              0.3333333333333333,
              "#9c179e"
             ],
             [
              0.4444444444444444,
              "#bd3786"
             ],
             [
              0.5555555555555556,
              "#d8576b"
             ],
             [
              0.6666666666666666,
              "#ed7953"
             ],
             [
              0.7777777777777778,
              "#fb9f3a"
             ],
             [
              0.8888888888888888,
              "#fdca26"
             ],
             [
              1,
              "#f0f921"
             ]
            ],
            "type": "surface"
           }
          ],
          "table": [
           {
            "cells": {
             "fill": {
              "color": "#EBF0F8"
             },
             "line": {
              "color": "white"
             }
            },
            "header": {
             "fill": {
              "color": "#C8D4E3"
             },
             "line": {
              "color": "white"
             }
            },
            "type": "table"
           }
          ]
         },
         "layout": {
          "annotationdefaults": {
           "arrowcolor": "#2a3f5f",
           "arrowhead": 0,
           "arrowwidth": 1
          },
          "coloraxis": {
           "colorbar": {
            "outlinewidth": 0,
            "ticks": ""
           }
          },
          "colorscale": {
           "diverging": [
            [
             0,
             "#8e0152"
            ],
            [
             0.1,
             "#c51b7d"
            ],
            [
             0.2,
             "#de77ae"
            ],
            [
             0.3,
             "#f1b6da"
            ],
            [
             0.4,
             "#fde0ef"
            ],
            [
             0.5,
             "#f7f7f7"
            ],
            [
             0.6,
             "#e6f5d0"
            ],
            [
             0.7,
             "#b8e186"
            ],
            [
             0.8,
             "#7fbc41"
            ],
            [
             0.9,
             "#4d9221"
            ],
            [
             1,
             "#276419"
            ]
           ],
           "sequential": [
            [
             0,
             "#0d0887"
            ],
            [
             0.1111111111111111,
             "#46039f"
            ],
            [
             0.2222222222222222,
             "#7201a8"
            ],
            [
             0.3333333333333333,
             "#9c179e"
            ],
            [
             0.4444444444444444,
             "#bd3786"
            ],
            [
             0.5555555555555556,
             "#d8576b"
            ],
            [
             0.6666666666666666,
             "#ed7953"
            ],
            [
             0.7777777777777778,
             "#fb9f3a"
            ],
            [
             0.8888888888888888,
             "#fdca26"
            ],
            [
             1,
             "#f0f921"
            ]
           ],
           "sequentialminus": [
            [
             0,
             "#0d0887"
            ],
            [
             0.1111111111111111,
             "#46039f"
            ],
            [
             0.2222222222222222,
             "#7201a8"
            ],
            [
             0.3333333333333333,
             "#9c179e"
            ],
            [
             0.4444444444444444,
             "#bd3786"
            ],
            [
             0.5555555555555556,
             "#d8576b"
            ],
            [
             0.6666666666666666,
             "#ed7953"
            ],
            [
             0.7777777777777778,
             "#fb9f3a"
            ],
            [
             0.8888888888888888,
             "#fdca26"
            ],
            [
             1,
             "#f0f921"
            ]
           ]
          },
          "colorway": [
           "#636efa",
           "#EF553B",
           "#00cc96",
           "#ab63fa",
           "#FFA15A",
           "#19d3f3",
           "#FF6692",
           "#B6E880",
           "#FF97FF",
           "#FECB52"
          ],
          "font": {
           "color": "#2a3f5f"
          },
          "geo": {
           "bgcolor": "white",
           "lakecolor": "white",
           "landcolor": "#E5ECF6",
           "showlakes": true,
           "showland": true,
           "subunitcolor": "white"
          },
          "hoverlabel": {
           "align": "left"
          },
          "hovermode": "closest",
          "mapbox": {
           "style": "light"
          },
          "paper_bgcolor": "white",
          "plot_bgcolor": "#E5ECF6",
          "polar": {
           "angularaxis": {
            "gridcolor": "white",
            "linecolor": "white",
            "ticks": ""
           },
           "bgcolor": "#E5ECF6",
           "radialaxis": {
            "gridcolor": "white",
            "linecolor": "white",
            "ticks": ""
           }
          },
          "scene": {
           "xaxis": {
            "backgroundcolor": "#E5ECF6",
            "gridcolor": "white",
            "gridwidth": 2,
            "linecolor": "white",
            "showbackground": true,
            "ticks": "",
            "zerolinecolor": "white"
           },
           "yaxis": {
            "backgroundcolor": "#E5ECF6",
            "gridcolor": "white",
            "gridwidth": 2,
            "linecolor": "white",
            "showbackground": true,
            "ticks": "",
            "zerolinecolor": "white"
           },
           "zaxis": {
            "backgroundcolor": "#E5ECF6",
            "gridcolor": "white",
            "gridwidth": 2,
            "linecolor": "white",
            "showbackground": true,
            "ticks": "",
            "zerolinecolor": "white"
           }
          },
          "shapedefaults": {
           "line": {
            "color": "#2a3f5f"
           }
          },
          "ternary": {
           "aaxis": {
            "gridcolor": "white",
            "linecolor": "white",
            "ticks": ""
           },
           "baxis": {
            "gridcolor": "white",
            "linecolor": "white",
            "ticks": ""
           },
           "bgcolor": "#E5ECF6",
           "caxis": {
            "gridcolor": "white",
            "linecolor": "white",
            "ticks": ""
           }
          },
          "title": {
           "x": 0.05
          },
          "xaxis": {
           "automargin": true,
           "gridcolor": "white",
           "linecolor": "white",
           "ticks": "",
           "title": {
            "standoff": 15
           },
           "zerolinecolor": "white",
           "zerolinewidth": 2
          },
          "yaxis": {
           "automargin": true,
           "gridcolor": "white",
           "linecolor": "white",
           "ticks": "",
           "title": {
            "standoff": 15
           },
           "zerolinecolor": "white",
           "zerolinewidth": 2
          }
         }
        },
        "title": {
         "text": "Weekly Active Users"
        },
        "xaxis": {
         "autorange": true,
         "range": [
          "2014-04-28",
          "2014-08-25"
         ],
         "title": {
          "text": "Week"
         },
         "type": "date"
        },
        "yaxis": {
         "autorange": true,
         "range": [
          659.7777777777778,
          1484.2222222222222
         ],
         "type": "linear"
        }
       }
      },
      "image/png": "[encoded data removed]",
      "text/html": [
       "<div>\n",
       "        \n",
       "        \n",
       "            <div id=\"0d903110-d7f3-4fe9-9411-975b618b7150\" class=\"plotly-graph-div\" style=\"height:525px; width:100%;\"></div>\n",
       "            <script type=\"text/javascript\">\n",
       "                require([\"plotly\"], function(Plotly) {\n",
       "                    window.PLOTLYENV=window.PLOTLYENV || {};\n",
       "                    \n",
       "                if (document.getElementById(\"0d903110-d7f3-4fe9-9411-975b618b7150\")) {\n",
       "                    Plotly.newPlot(\n",
       "                        '0d903110-d7f3-4fe9-9411-975b618b7150',\n",
       "                        [{\"mode\": \"lines\", \"name\": \"number of users\", \"type\": \"scatter\", \"x\": [\"2014-04-28\", \"2014-05-05\", \"2014-05-12\", \"2014-05-19\", \"2014-05-26\", \"2014-06-02\", \"2014-06-09\", \"2014-06-16\", \"2014-06-23\", \"2014-06-30\", \"2014-07-07\", \"2014-07-14\", \"2014-07-21\", \"2014-07-28\", \"2014-08-04\", \"2014-08-11\", \"2014-08-18\", \"2014-08-25\"], \"y\": [701, 1054, 1094, 1147, 1113, 1173, 1219, 1263, 1249, 1271, 1355, 1345, 1363, 1443, 1266, 1215, 1203, 1194]}],\n",
       "                        {\"template\": {\"data\": {\"bar\": [{\"error_x\": {\"color\": \"#2a3f5f\"}, \"error_y\": {\"color\": \"#2a3f5f\"}, \"marker\": {\"line\": {\"color\": \"#E5ECF6\", \"width\": 0.5}}, \"type\": \"bar\"}], \"barpolar\": [{\"marker\": {\"line\": {\"color\": \"#E5ECF6\", \"width\": 0.5}}, \"type\": \"barpolar\"}], \"carpet\": [{\"aaxis\": {\"endlinecolor\": \"#2a3f5f\", \"gridcolor\": \"white\", \"linecolor\": \"white\", \"minorgridcolor\": \"white\", \"startlinecolor\": \"#2a3f5f\"}, \"baxis\": {\"endlinecolor\": \"#2a3f5f\", \"gridcolor\": \"white\", \"linecolor\": \"white\", \"minorgridcolor\": \"white\", \"startlinecolor\": \"#2a3f5f\"}, \"type\": \"carpet\"}], \"choropleth\": [{\"colorbar\": {\"outlinewidth\": 0, \"ticks\": \"\"}, \"type\": \"choropleth\"}], \"contour\": [{\"colorbar\": {\"outlinewidth\": 0, \"ticks\": \"\"}, \"colorscale\": [[0.0, \"#0d0887\"], [0.1111111111111111, \"#46039f\"], [0.2222222222222222, \"#7201a8\"], [0.3333333333333333, \"#9c179e\"], [0.4444444444444444, \"#bd3786\"], [0.5555555555555556, \"#d8576b\"], [0.6666666666666666, \"#ed7953\"], [0.7777777777777778, \"#fb9f3a\"], [0.8888888888888888, \"#fdca26\"], [1.0, \"#f0f921\"]], \"type\": \"contour\"}], \"contourcarpet\": [{\"colorbar\": {\"outlinewidth\": 0, \"ticks\": \"\"}, \"type\": \"contourcarpet\"}], \"heatmap\": [{\"colorbar\": {\"outlinewidth\": 0, \"ticks\": \"\"}, \"colorscale\": [[0.0, \"#0d0887\"], [0.1111111111111111, \"#46039f\"], [0.2222222222222222, \"#7201a8\"], [0.3333333333333333, \"#9c179e\"], [0.4444444444444444, \"#bd3786\"], [0.5555555555555556, \"#d8576b\"], [0.6666666666666666, \"#ed7953\"], [0.7777777777777778, \"#fb9f3a\"], [0.8888888888888888, \"#fdca26\"], [1.0, \"#f0f921\"]], \"type\": \"heatmap\"}], \"heatmapgl\": [{\"colorbar\": {\"outlinewidth\": 0, \"ticks\": \"\"}, \"colorscale\": [[0.0, \"#0d0887\"], [0.1111111111111111, \"#46039f\"], [0.2222222222222222, \"#7201a8\"], [0.3333333333333333, \"#9c179e\"], [0.4444444444444444, \"#bd3786\"], [0.5555555555555556, \"#d8576b\"], [0.6666666666666666, \"#ed7953\"], [0.7777777777777778, \"#fb9f3a\"], [0.8888888888888888, \"#fdca26\"], [1.0, \"#f0f921\"]], \"type\": \"heatmapgl\"}], \"histogram\": [{\"marker\": {\"colorbar\": {\"outlinewidth\": 0, \"ticks\": \"\"}}, \"type\": \"histogram\"}], \"histogram2d\": [{\"colorbar\": {\"outlinewidth\": 0, \"ticks\": \"\"}, \"colorscale\": [[0.0, \"#0d0887\"], [0.1111111111111111, \"#46039f\"], [0.2222222222222222, \"#7201a8\"], [0.3333333333333333, \"#9c179e\"], [0.4444444444444444, \"#bd3786\"], [0.5555555555555556, \"#d8576b\"], [0.6666666666666666, \"#ed7953\"], [0.7777777777777778, \"#fb9f3a\"], [0.8888888888888888, \"#fdca26\"], [1.0, \"#f0f921\"]], \"type\": \"histogram2d\"}], \"histogram2dcontour\": [{\"colorbar\": {\"outlinewidth\": 0, \"ticks\": \"\"}, \"colorscale\": [[0.0, \"#0d0887\"], [0.1111111111111111, \"#46039f\"], [0.2222222222222222, \"#7201a8\"], [0.3333333333333333, \"#9c179e\"], [0.4444444444444444, \"#bd3786\"], [0.5555555555555556, \"#d8576b\"], [0.6666666666666666, \"#ed7953\"], [0.7777777777777778, \"#fb9f3a\"], [0.8888888888888888, \"#fdca26\"], [1.0, \"#f0f921\"]], \"type\": \"histogram2dcontour\"}], \"mesh3d\": [{\"colorbar\": {\"outlinewidth\": 0, \"ticks\": \"\"}, \"type\": \"mesh3d\"}], \"parcoords\": [{\"line\": {\"colorbar\": {\"outlinewidth\": 0, \"ticks\": \"\"}}, \"type\": \"parcoords\"}], \"pie\": [{\"automargin\": true, \"type\": \"pie\"}], \"scatter\": [{\"marker\": {\"colorbar\": {\"outlinewidth\": 0, \"ticks\": \"\"}}, \"type\": \"scatter\"}], \"scatter3d\": [{\"line\": {\"colorbar\": {\"outlinewidth\": 0, \"ticks\": \"\"}}, \"marker\": {\"colorbar\": {\"outlinewidth\": 0, \"ticks\": \"\"}}, \"type\": \"scatter3d\"}], \"scattercarpet\": [{\"marker\": {\"colorbar\": {\"outlinewidth\": 0, \"ticks\": \"\"}}, \"type\": \"scattercarpet\"}], \"scattergeo\": [{\"marker\": {\"colorbar\": {\"outlinewidth\": 0, \"ticks\": \"\"}}, \"type\": \"scattergeo\"}], \"scattergl\": [{\"marker\": {\"colorbar\": {\"outlinewidth\": 0, \"ticks\": \"\"}}, \"type\": \"scattergl\"}], \"scattermapbox\": [{\"marker\": {\"colorbar\": {\"outlinewidth\": 0, \"ticks\": \"\"}}, \"type\": \"scattermapbox\"}], \"scatterpolar\": [{\"marker\": {\"colorbar\": {\"outlinewidth\": 0, \"ticks\": \"\"}}, \"type\": \"scatterpolar\"}], \"scatterpolargl\": [{\"marker\": {\"colorbar\": {\"outlinewidth\": 0, \"ticks\": \"\"}}, \"type\": \"scatterpolargl\"}], \"scatterternary\": [{\"marker\": {\"colorbar\": {\"outlinewidth\": 0, \"ticks\": \"\"}}, \"type\": \"scatterternary\"}], \"surface\": [{\"colorbar\": {\"outlinewidth\": 0, \"ticks\": \"\"}, \"colorscale\": [[0.0, \"#0d0887\"], [0.1111111111111111, \"#46039f\"], [0.2222222222222222, \"#7201a8\"], [0.3333333333333333, \"#9c179e\"], [0.4444444444444444, \"#bd3786\"], [0.5555555555555556, \"#d8576b\"], [0.6666666666666666, \"#ed7953\"], [0.7777777777777778, \"#fb9f3a\"], [0.8888888888888888, \"#fdca26\"], [1.0, \"#f0f921\"]], \"type\": \"surface\"}], \"table\": [{\"cells\": {\"fill\": {\"color\": \"#EBF0F8\"}, \"line\": {\"color\": \"white\"}}, \"header\": {\"fill\": {\"color\": \"#C8D4E3\"}, \"line\": {\"color\": \"white\"}}, \"type\": \"table\"}]}, \"layout\": {\"annotationdefaults\": {\"arrowcolor\": \"#2a3f5f\", \"arrowhead\": 0, \"arrowwidth\": 1}, \"coloraxis\": {\"colorbar\": {\"outlinewidth\": 0, \"ticks\": \"\"}}, \"colorscale\": {\"diverging\": [[0, \"#8e0152\"], [0.1, \"#c51b7d\"], [0.2, \"#de77ae\"], [0.3, \"#f1b6da\"], [0.4, \"#fde0ef\"], [0.5, \"#f7f7f7\"], [0.6, \"#e6f5d0\"], [0.7, \"#b8e186\"], [0.8, \"#7fbc41\"], [0.9, \"#4d9221\"], [1, \"#276419\"]], \"sequential\": [[0.0, \"#0d0887\"], [0.1111111111111111, \"#46039f\"], [0.2222222222222222, \"#7201a8\"], [0.3333333333333333, \"#9c179e\"], [0.4444444444444444, \"#bd3786\"], [0.5555555555555556, \"#d8576b\"], [0.6666666666666666, \"#ed7953\"], [0.7777777777777778, \"#fb9f3a\"], [0.8888888888888888, \"#fdca26\"], [1.0, \"#f0f921\"]], \"sequentialminus\": [[0.0, \"#0d0887\"], [0.1111111111111111, \"#46039f\"], [0.2222222222222222, \"#7201a8\"], [0.3333333333333333, \"#9c179e\"], [0.4444444444444444, \"#bd3786\"], [0.5555555555555556, \"#d8576b\"], [0.6666666666666666, \"#ed7953\"], [0.7777777777777778, \"#fb9f3a\"], [0.8888888888888888, \"#fdca26\"], [1.0, \"#f0f921\"]]}, \"colorway\": [\"#636efa\", \"#EF553B\", \"#00cc96\", \"#ab63fa\", \"#FFA15A\", \"#19d3f3\", \"#FF6692\", \"#B6E880\", \"#FF97FF\", \"#FECB52\"], \"font\": {\"color\": \"#2a3f5f\"}, \"geo\": {\"bgcolor\": \"white\", \"lakecolor\": \"white\", \"landcolor\": \"#E5ECF6\", \"showlakes\": true, \"showland\": true, \"subunitcolor\": \"white\"}, \"hoverlabel\": {\"align\": \"left\"}, \"hovermode\": \"closest\", \"mapbox\": {\"style\": \"light\"}, \"paper_bgcolor\": \"white\", \"plot_bgcolor\": \"#E5ECF6\", \"polar\": {\"angularaxis\": {\"gridcolor\": \"white\", \"linecolor\": \"white\", \"ticks\": \"\"}, \"bgcolor\": \"#E5ECF6\", \"radialaxis\": {\"gridcolor\": \"white\", \"linecolor\": \"white\", \"ticks\": \"\"}}, \"scene\": {\"xaxis\": {\"backgroundcolor\": \"#E5ECF6\", \"gridcolor\": \"white\", \"gridwidth\": 2, \"linecolor\": \"white\", \"showbackground\": true, \"ticks\": \"\", \"zerolinecolor\": \"white\"}, \"yaxis\": {\"backgroundcolor\": \"#E5ECF6\", \"gridcolor\": \"white\", \"gridwidth\": 2, \"linecolor\": \"white\", \"showbackground\": true, \"ticks\": \"\", \"zerolinecolor\": \"white\"}, \"zaxis\": {\"backgroundcolor\": \"#E5ECF6\", \"gridcolor\": \"white\", \"gridwidth\": 2, \"linecolor\": \"white\", \"showbackground\": true, \"ticks\": \"\", \"zerolinecolor\": \"white\"}}, \"shapedefaults\": {\"line\": {\"color\": \"#2a3f5f\"}}, \"ternary\": {\"aaxis\": {\"gridcolor\": \"white\", \"linecolor\": \"white\", \"ticks\": \"\"}, \"baxis\": {\"gridcolor\": \"white\", \"linecolor\": \"white\", \"ticks\": \"\"}, \"bgcolor\": \"#E5ECF6\", \"caxis\": {\"gridcolor\": \"white\", \"linecolor\": \"white\", \"ticks\": \"\"}}, \"title\": {\"x\": 0.05}, \"xaxis\": {\"automargin\": true, \"gridcolor\": \"white\", \"linecolor\": \"white\", \"ticks\": \"\", \"title\": {\"standoff\": 15}, \"zerolinecolor\": \"white\", \"zerolinewidth\": 2}, \"yaxis\": {\"automargin\": true, \"gridcolor\": \"white\", \"linecolor\": \"white\", \"ticks\": \"\", \"title\": {\"standoff\": 15}, \"zerolinecolor\": \"white\", \"zerolinewidth\": 2}}}, \"title\": {\"text\": \"Weekly Active Users\"}, \"xaxis\": {\"title\": {\"text\": \"Week\"}}},\n",
       "                        {\"responsive\": true}\n",
       "                    ).then(function(){\n",
       "                            \n",
       "var gd = document.getElementById('0d903110-d7f3-4fe9-9411-975b618b7150');\n",
       "var x = new MutationObserver(function (mutations, observer) {{\n",
       "        var display = window.getComputedStyle(gd).display;\n",
       "        if (!display || display === 'none') {{\n",
       "            console.log([gd, 'removed!']);\n",
       "            Plotly.purge(gd);\n",
       "            observer.disconnect();\n",
       "        }}\n",
       "}});\n",
       "\n",
       "// Listen for the removal of the full notebook cells\n",
       "var notebookContainer = gd.closest('#notebook-container');\n",
       "if (notebookContainer) {{\n",
       "    x.observe(notebookContainer, {childList: true});\n",
       "}}\n",
       "\n",
       "// Listen for the clearing of the current output cell\n",
       "var outputEl = gd.closest('.output');\n",
       "if (outputEl) {{\n",
       "    x.observe(outputEl, {childList: true});\n",
       "}}\n",
       "\n",
       "                        })\n",
       "                };\n",
       "                });\n",
       "            </script>\n",
       "        </div>"
      ]
     },
     "metadata": {},
     "output_type": "display_data"
    }
   ],
   "source": [
    "date = weekly_active_users['week']\n",
    "count_users = weekly_active_users['weekly_active_users']\n",
    "\n",
    "fig = go.Figure()\n",
    "fig.add_trace(go.Scatter(x=date, y=count_users,mode='lines',name='number of users'))\n",
    "\n",
    "fig.update_layout(title='Weekly Active Users',xaxis_title='Week')\n",
    "\n",
    "# fig.write_html('Figures/Weekly_Active_Users.html')\n",
    "pio.write_html(fig, file='Figures/Weekly Active Users.html',include_plotlyjs='cdn',default_width='60%', default_height='60%')\n",
    "pio.show(fig,renderer='')"
   ]
  },
  {
   "cell_type": "markdown",
   "metadata": {},
   "source": [
    "### Test Hypotheses"
   ]
  },
  {
   "cell_type": "markdown",
   "metadata": {},
   "source": [
    "##### 1. Engagement by Factors of Time\n",
    "Do we see the engagement levels gradually decreasing over time or only a one time sudden decrease? Is the decrease specific to certain days of the week or certain times of the day?"
   ]
  },
  {
   "cell_type": "markdown",
   "metadata": {},
   "source": [
    "<b>Daily Engagement Rate</b>"
   ]
  },
  {
   "cell_type": "code",
   "execution_count": null,
   "metadata": {},
   "outputs": [],
   "source": [
    "daily_eng = pandasql.sqldf(\"SELECT strftime('%Y-%m-%d', occurred_at) as date,\\\n",
    "                                   (CAST(COUNT(*) as FLOAT)/ CAST(COUNT(DISTINCT user_id) as FLOAT)) as engagement_rate\\\n",
    "                            FROM yammer_events\\\n",
    "                            WHERE event_type='engagement'\\\n",
    "                            AND occurred_at >= '2014-05-01'\\\n",
    "                            GROUP by 1\\\n",
    "                            ORDER by 1;\", globals()) \n",
    "daily_eng.head()"
   ]
  },
  {
   "cell_type": "code",
   "execution_count": null,
   "metadata": {},
   "outputs": [],
   "source": [
    "date = daily_eng['date']\n",
    "engagement_rate = daily_eng['engagement_rate']\n",
    "\n",
    "fig = go.Figure()\n",
    "fig.add_trace(go.Scatter(x=date, y=engagement_rate,mode='lines',name='engagement_rate'))\n",
    "\n",
    "fig.update_layout(title='Daily Engagement',xaxis_title='Date',yaxis_title='Engagement Rate')\n",
    "\n",
    "fig.write_html('Figures/Daily_Engagement_Rate.html')\n",
    "fig.show()"
   ]
  },
  {
   "cell_type": "markdown",
   "metadata": {},
   "source": [
    "<b>Engagement Rate by Day of Week</b>"
   ]
  },
  {
   "cell_type": "code",
   "execution_count": null,
   "metadata": {},
   "outputs": [],
   "source": [
    "day_of_week = pandasql.sqldf(\"SELECT strftime('%w', occurred_at) as date,\\\n",
    "                                     CASE WHEN strftime('%w', occurred_at) = '0' THEN 'Sun'\\\n",
    "                                          WHEN strftime('%w', occurred_at) = '1' THEN 'Mon'\\\n",
    "                                          WHEN strftime('%w', occurred_at) = '2' THEN 'Tue'\\\n",
    "                                          WHEN strftime('%w', occurred_at) = '3' THEN 'Wed'\\\n",
    "                                          WHEN strftime('%w', occurred_at) = '4' THEN 'Thu'\\\n",
    "                                          WHEN strftime('%w', occurred_at) = '5' THEN 'Fri'\\\n",
    "                                          WHEN strftime('%w', occurred_at) = '6' THEN 'Sat'\\\n",
    "                                     END as week_day,\\\n",
    "                                     (CAST(COUNT(*) as FLOAT)/ CAST(COUNT(DISTINCT user_id) as FLOAT)) as engagement_rate\\\n",
    "                             FROM yammer_events\\\n",
    "                             where event_type='engagement'\\\n",
    "                             and occurred_at >= '2014-05-01'\\\n",
    "                             group by 1\\\n",
    "                             order by 1;\", globals()) \n",
    "day_of_week.head()"
   ]
  },
  {
   "cell_type": "code",
   "execution_count": null,
   "metadata": {},
   "outputs": [],
   "source": [
    "date = day_of_week['week_day']\n",
    "engagement_rate = day_of_week['engagement_rate']\n",
    "\n",
    "fig = go.Figure()\n",
    "fig.add_trace(go.Bar(x=date, y=engagement_rate,name='engagement_rate'))\n",
    "\n",
    "fig.update_layout(title='Engagement by Day of Week',xaxis_title='Week Day',yaxis_title='Engagement Rate')\n",
    "\n",
    "fig.write_html('Figures/Engagement_by_Day_of_Week.html')\n",
    "fig.show()"
   ]
  },
  {
   "cell_type": "markdown",
   "metadata": {},
   "source": [
    "<b>Engagement Rate by Time of Day</b>"
   ]
  },
  {
   "cell_type": "code",
   "execution_count": null,
   "metadata": {},
   "outputs": [],
   "source": [
    "eng_by_time = pandasql.sqldf(\"SELECT strftime('%H', occurred_at) as time,\\\n",
    "                                     (CAST(COUNT(*) as FLOAT)/ CAST(COUNT(DISTINCT user_id) as FLOAT)) as engagement_rate\\\n",
    "                              FROM yammer_events\\\n",
    "                              WHERE event_type='engagement'\\\n",
    "                              AND occurred_at >= '2014-05-01'\\\n",
    "                              GROUP BY 1\\\n",
    "                              ORDER BY 1;\", globals()) \n",
    "eng_by_time.head()"
   ]
  },
  {
   "cell_type": "code",
   "execution_count": null,
   "metadata": {},
   "outputs": [],
   "source": [
    "time = eng_by_time['time']\n",
    "engagement_rate = eng_by_time['engagement_rate']\n",
    "\n",
    "fig = go.Figure()\n",
    "fig.add_trace(go.Bar(x=time, y=engagement_rate))\n",
    "\n",
    "fig.update_layout(title='Engagement by Time of Day',xaxis_title='Time of Day',yaxis_title='Engagement Rate')\n",
    "\n",
    "fig.write_html('Figures/Engagement_by_Time_of_Day.html')\n",
    "fig.show()"
   ]
  },
  {
   "cell_type": "markdown",
   "metadata": {},
   "source": [
    "##### 2. Growth/ Activation Rate\n",
    "Since the drop in users were gradual over time and not localized to a particular day of the week or time of day, we should now move on and identify if there is an issue with acquiring new users or activating new users"
   ]
  },
  {
   "cell_type": "code",
   "execution_count": null,
   "metadata": {},
   "outputs": [],
   "source": [
    "activation_rate = pandasql.sqldf(\"SELECT strftime('%Y-%m-%d', created_at) as date,\\\n",
    "                                         COUNT(*) as all_users,\\\n",
    "                                         COUNT(DISTINCT CASE WHEN activated_at IS NOT NULL THEN user_id ELSE NULL END) as activated_users \\\n",
    "                                  FROM yammer_users\\\n",
    "                                  WHERE created_at >= '2014-05-01'\\\n",
    "                                  GROUP BY 1\\\n",
    "                                  ORDER BY 1;\", globals()) \n",
    "activation_rate.head()"
   ]
  },
  {
   "cell_type": "code",
   "execution_count": null,
   "metadata": {},
   "outputs": [],
   "source": [
    "date = activation_rate['date']\n",
    "all_users = activation_rate['all_users']\n",
    "activated_users = activation_rate['activated_users']\n",
    "\n",
    "fig = go.Figure()\n",
    "fig.add_trace(go.Scatter(x=date, y=all_users,mode='lines',name='all users'))\n",
    "fig.add_trace(go.Scatter(x=date, y=activated_users,mode='lines',name='activated users'))\n",
    "\n",
    "fig.update_layout(title='Daily Signups',xaxis_title='Date',yaxis_title='Number of Users')\n",
    "\n",
    "fig.write_html('Figures/Daily_Signups.html')\n",
    "fig.show()"
   ]
  },
  {
   "cell_type": "markdown",
   "metadata": {},
   "source": [
    "##### 3. Cohort Analysis\n",
    "Since activation rate is normal, we know the issue is not associated with growth (acquiring new users). The drop will likely be due to disengagement from existing users, so we should do a cohort analysis allowing us to compare users at different life stages with Yammer."
   ]
  },
  {
   "cell_type": "code",
   "execution_count": null,
   "metadata": {},
   "outputs": [],
   "source": [
    "cohort_age = pandasql.sqldf(\"SELECT f.week as week,\\\n",
    "                                    COUNT(DISTINCT CASE WHEN f.user_age > 70 THEN f.user_id ELSE NULL END) as '10+ weeks old',\\\n",
    "                                    COUNT(DISTINCT CASE WHEN f.user_age < 70 AND f.user_age >= 63 THEN f.user_id ELSE NULL END) as '9 weeks old',\\\n",
    "                                    COUNT(DISTINCT CASE WHEN f.user_age < 63 AND f.user_age >= 56 THEN f.user_id ELSE NULL END) as '8 weeks old',\\\n",
    "                                    COUNT(DISTINCT CASE WHEN f.user_age < 56 AND f.user_age >= 49 THEN f.user_id ELSE NULL END) as '7 weeks old',\\\n",
    "                                    COUNT(DISTINCT CASE WHEN f.user_age < 49 AND f.user_age >= 42 THEN f.user_id ELSE NULL END) as '6 weeks old',\\\n",
    "                                    COUNT(DISTINCT CASE WHEN f.user_age < 42 AND f.user_age >= 35 THEN f.user_id ELSE NULL END) as '5 weeks old',\\\n",
    "                                    COUNT(DISTINCT CASE WHEN f.user_age < 35 AND f.user_age >= 28 THEN f.user_id ELSE NULL END) as '4 weeks old',\\\n",
    "                                    COUNT(DISTINCT CASE WHEN f.user_age < 28 AND f.user_age >= 21 THEN f.user_id ELSE NULL END) as '3 weeks old',\\\n",
    "                                    COUNT(DISTINCT CASE WHEN f.user_age < 21 AND f.user_age >= 14 THEN f.user_id ELSE NULL END) as '2 weeks old',\\\n",
    "                                    COUNT(DISTINCT CASE WHEN f.user_age < 14 AND f.user_age >= 7  THEN f.user_id ELSE NULL END) as '1 week old',\\\n",
    "                                    COUNT(DISTINCT CASE WHEN f.user_age < 7 THEN f.user_id ELSE NULL END) as 'less than a week old'\\\n",
    "                             FROM\\\n",
    "                                 (SELECT strftime('%Y-%m-%d', e.occurred_at,'weekday 0','-6 days') as week,\\\n",
    "                                         CAST(u.user_id as INT) as user_id,\\\n",
    "                                         CAST((julianday('2014-09-01') - julianday(u.activated_at)) as INT) as user_age\\\n",
    "                                  FROM yammer_users u\\\n",
    "                                    JOIN yammer_events e\\\n",
    "                                      ON e.user_id = u.user_id\\\n",
    "                                  WHERE e.event_type = 'engagement'\\\n",
    "                                  AND e.event_name = 'login'\\\n",
    "                                  AND e.occurred_at >= '2014-05-01'\\\n",
    "                                  AND u.activated_at IS NOT NULL) f\\\n",
    "                            GROUP BY 1\\\n",
    "                            ORDER BY 1\\\n",
    "                              ;\", globals()) \n",
    "cohort_age.head()"
   ]
  },
  {
   "cell_type": "code",
   "execution_count": null,
   "metadata": {},
   "outputs": [],
   "source": [
    "x=cohort_age['week']\n",
    "y1=cohort_age['10+ weeks old']\n",
    "y2=cohort_age['9 weeks old']\n",
    "y3=cohort_age['8 weeks old']\n",
    "y4=cohort_age['7 weeks old']\n",
    "y5=cohort_age['6 weeks old']\n",
    "y6=cohort_age['5 weeks old']\n",
    "y7=cohort_age['4 weeks old']\n",
    "y8=cohort_age['3 weeks old']\n",
    "y9=cohort_age['2 weeks old']\n",
    "y10=cohort_age['1 week old']\n",
    "y11=cohort_age['less than a week old']\n",
    "\n",
    "fig = go.Figure(data=[\n",
    "      go.Bar(name='10+ weeks old', x=x, y=y1),\n",
    "      go.Bar(name='9 weeks old', x=x, y=y2),\n",
    "      go.Bar(name='8 weeks old', x=x, y=y3),\n",
    "      go.Bar(name='7 weeks old', x=x, y=y4),\n",
    "      go.Bar(name='6 weeks old', x=x, y=y5),\n",
    "      go.Bar(name='5 weeks old', x=x, y=y6),\n",
    "      go.Bar(name='4 weeks old', x=x, y=y7),\n",
    "      go.Bar(name='3 weeks old', x=x, y=y8),\n",
    "      go.Bar(name='2 weeks old', x=x, y=y9),\n",
    "      go.Bar(name='1 week old', x=x, y=y10),\n",
    "      go.Bar(name='Less than a week old', x=x, y=y11),\n",
    "])\n",
    "\n",
    "fig.update_layout( title='Retention Rate by Age Cohort',xaxis_title='Week ',yaxis_title='Number of Users',barmode='group')\n",
    "\n",
    "fig.write_html('Figures/Retention_Rate_by_Age_Cohort.html')\n",
    "fig.show()"
   ]
  },
  {
   "cell_type": "markdown",
   "metadata": {},
   "source": [
    "##### 4. Engagement by Type of Events\n",
    "By looking at the assumed UX flow, there are four major types of engagement events:\n",
    "- signing up as a new user\n",
    "- logging in to homepage as an existing user\n",
    "- inbox and message related engagement\n",
    "- search and click related engagement\n",
    "\n",
    "We want to group these together, and see if there is a more pronounced drop in engagement for either groups"
   ]
  },
  {
   "cell_type": "code",
   "execution_count": null,
   "metadata": {},
   "outputs": [],
   "source": [
    "events = pandasql.sqldf(\"SELECT DISTINCT event_type, event_name FROM yammer_events ORDER BY 1,2;\", globals()) \n",
    "events"
   ]
  },
  {
   "cell_type": "code",
   "execution_count": null,
   "metadata": {},
   "outputs": [],
   "source": [
    "weekly_type = pandasql.sqldf(\"SELECT strftime('%Y-%m-%d', occurred_at,'weekday 0','-6 days') as week,\\\n",
    "                                     COUNT(CASE WHEN event_name IN ('complete_signup','create_user','enter_email','enter_info') THEN user_id ELSE NULL END) AS 'sign up', \\\n",
    "                                     COUNT(CASE WHEN event_name IN ('login') THEN user_id ELSE NULL END) AS 'login', \\\n",
    "                                     COUNT(CASE WHEN event_name IN ('home_page') THEN user_id ELSE NULL END) AS 'homepage', \\\n",
    "                                     COUNT(CASE WHEN event_name IN ('view_inbox','like_message','send_message') THEN user_id ELSE NULL END) AS 'message', \\\n",
    "                                     COUNT(CASE WHEN event_name IN ('search_autocomplete','search_click_result_1','search_click_result_2','search_click_result_3','search_click_result_4','search_click_result_5','search_click_result_6','search_click_result_7','search_click_result_8','search_click_result_9','search_click_result_10') THEN user_id ELSE NULL END) AS 'search click'\\\n",
    "                             FROM yammer_events\\\n",
    "                             where occurred_at >= '2014-05-01'\\\n",
    "                             GROUP BY 1\\\n",
    "                             ORDER BY 1\\\n",
    "                             ;\", globals()) \n",
    "weekly_type.head()"
   ]
  },
  {
   "cell_type": "code",
   "execution_count": null,
   "metadata": {},
   "outputs": [],
   "source": [
    "week = weekly_type['week']\n",
    "signup = weekly_type['sign up']\n",
    "login = weekly_type['login']\n",
    "homepage = weekly_type['homepage']\n",
    "message = weekly_type['message']\n",
    "search_click = weekly_type['search click']\n",
    "\n",
    "fig = go.Figure()\n",
    "fig.add_trace(go.Scatter(x=week, y=signup,mode='lines',name='sign up'))\n",
    "fig.add_trace(go.Scatter(x=week, y=login,mode='lines',name='login'))\n",
    "fig.add_trace(go.Scatter(x=week, y=homepage,mode='lines',name='homepage'))\n",
    "fig.add_trace(go.Scatter(x=week, y=message,mode='lines',name='message'))\n",
    "fig.add_trace(go.Scatter(x=week, y=search_click,mode='lines',name='search click'))\n",
    "\n",
    "fig.update_layout(title='Weekly Engagement by Event Type',xaxis_title='Week')\n",
    "\n",
    "fig.write_html('Figures/Weekly_Engagement_by_Event_Type.html')\n",
    "fig.show()"
   ]
  },
  {
   "cell_type": "markdown",
   "metadata": {},
   "source": [
    "##### 5. Engagement by Region\n",
    "Knowing that growth is normal, and the drop in engagement is likely due to older users - we'd now want to narrow down some more details.\n",
    "If the drop is localized to a particular region then there could be an issue related to that."
   ]
  },
  {
   "cell_type": "code",
   "execution_count": null,
   "metadata": {},
   "outputs": [],
   "source": [
    "Top5_Regions = pandasql.sqldf(\"SELECT location,\\\n",
    "                                      COUNT(DISTINCT user_id) as count_users\\\n",
    "                               FROM yammer_events\\\n",
    "                               where event_type='engagement'\\\n",
    "                               and occurred_at >= '2014-05-01'\\\n",
    "                               GROUP BY 1\\\n",
    "                               ORDER BY 2 DESC\\\n",
    "                               LIMIT 5\\\n",
    "                               ;\", globals()) "
   ]
  },
  {
   "cell_type": "code",
   "execution_count": null,
   "metadata": {},
   "outputs": [],
   "source": [
    "engagement_region = pandasql.sqldf(\"SELECT strftime('%Y-%m-%d', occurred_at,'weekday 0','-6 days') as week,\\\n",
    "                                    location,\\\n",
    "                                    count(distinct user_id) as active_users\\\n",
    "                                    FROM yammer_events\\\n",
    "                                    where location in (select location from Top5_Regions)\\\n",
    "                                    and event_type='engagement'\\\n",
    "                                    and occurred_at >= '2014-05-01'\\\n",
    "                                    group by 1,2\\\n",
    "                                    order by 1;\", globals()) \n",
    "engagement_region.head()"
   ]
  },
  {
   "cell_type": "code",
   "execution_count": null,
   "metadata": {},
   "outputs": [],
   "source": [
    "fig = px.line(engagement_region, x='week', y='active_users', color=\"location\", title='Engagement by Top 5 Regions')\n",
    "\n",
    "fig.write_html('Figures/Engagement_by_Region.html')\n",
    "fig.show()"
   ]
  },
  {
   "cell_type": "markdown",
   "metadata": {},
   "source": [
    "##### 6. Email Open Rate and Click Through Rate\n",
    "Yammer has been sending emails either as a monthly digest or for re-engagement. We'd now want to analyze if something related to emails may have caused more users to be inactive"
   ]
  },
  {
   "cell_type": "code",
   "execution_count": null,
   "metadata": {},
   "outputs": [],
   "source": [
    "yammer_emails['action'].drop_duplicates()"
   ]
  },
  {
   "cell_type": "code",
   "execution_count": null,
   "metadata": {},
   "outputs": [],
   "source": [
    "yammer_emails['occurred_at'] = pd.to_datetime(yammer_emails['occurred_at']) \n",
    "yammer_emails.dtypes"
   ]
  },
  {
   "cell_type": "markdown",
   "metadata": {},
   "source": [
    "- Open Rate = # of emails opened/ # of emails sent \n",
    "- Click Through Rate = # of emails clicked/ # of emails sent\n",
    "\n",
    "Further research shows that subscribers are most likely to read your email at either 10am, after they arrived at work, or at 1pm, when they are catching up on their emails after lunch.\n",
    "\n",
    "And that 23% of all email opens occur during the first hour after delivery. After 24 hours, an email's chance of being opened drops below 1%!\n",
    "\n"
   ]
  },
  {
   "cell_type": "code",
   "execution_count": null,
   "metadata": {},
   "outputs": [],
   "source": [
    "email_activity = pandasql.sqldf(\"SELECT \\\n",
    "                                    strftime('%Y-%m-%d', e.occurred_at,'weekday 0','-6 days') as week,\\\n",
    "                                    COUNT(CASE WHEN e.action = 'sent_weekly_digest' THEN e.user_id ELSE NULL END) as weekly_emails,\\\n",
    "                                    COUNT(CASE WHEN e.action = 'sent_weekly_digest' THEN e1.user_id ELSE NULL END) as weekly_opens, \\\n",
    "                                    COUNT(CASE WHEN e.action = 'sent_weekly_digest' THEN e2.user_id ELSE NULL END) as weekly_ct, \\\n",
    "                                    COUNT(CASE WHEN e.action = 'sent_reengagement_email' THEN e.user_id ELSE NULL END) as weekly_retain_emails,\\\n",
    "                                    COUNT(CASE WHEN e.action = 'sent_reengagement_email' THEN e1.user_id ELSE NULL END) as weekly_retain_opens, \\\n",
    "                                    COUNT(CASE WHEN e.action = 'sent_reengagement_email' THEN e2.user_id ELSE NULL END) as weekly_retain_ct \\\n",
    "                           FROM yammer_emails e \\\n",
    "                           LEFT JOIN yammer_emails e1 \\\n",
    "                               ON e.user_id = e1.user_id \\\n",
    "                               AND e1.occurred_at >= e.occurred_at \\\n",
    "                               AND e1.occurred_at <  datetime(e.occurred_at, '24 hours') \\\n",
    "                               AND e1.action = 'email_open' \\\n",
    "                           LEFT JOIN yammer_emails e2 \\\n",
    "                               ON e1.user_id = e2.user_id \\\n",
    "                               AND e2.occurred_at >= e1.occurred_at \\\n",
    "                               AND e2.occurred_at <  datetime(e1.occurred_at, '24 hours') \\\n",
    "                               AND e2.action = 'email_clickthrough' \\\n",
    "                           WHERE e.action IN  ('sent_weekly_digest','sent_reengagement_email') and e.occurred_at >= '2014-05-01'\\\n",
    "                           GROUP BY 1\\\n",
    "                           ORDER BY 1;\", globals()) \n",
    "email_activity.head()"
   ]
  },
  {
   "cell_type": "code",
   "execution_count": null,
   "metadata": {},
   "outputs": [],
   "source": [
    "date = email_activity['week']\n",
    "weekly_emails = email_activity['weekly_emails']\n",
    "weekly_opens = email_activity['weekly_opens']\n",
    "weekly_ct = email_activity['weekly_ct']\n",
    "weekly_retain_emails = email_activity['weekly_retain_emails']\n",
    "weekly_retain_opens = email_activity['weekly_retain_opens']\n",
    "weekly_retain_ct = email_activity['weekly_retain_ct']\n",
    "\n",
    "\n",
    "fig = go.Figure()\n",
    "fig.add_trace(go.Scatter(x=date, y=weekly_emails,mode='lines',name='weekly emails'))\n",
    "fig.add_trace(go.Scatter(x=date, y=weekly_opens,mode='lines',name='weekly opens'))\n",
    "fig.add_trace(go.Scatter(x=date, y=weekly_ct,mode='lines',name='weekly ct'))\n",
    "fig.add_trace(go.Scatter(x=date, y=weekly_retain_emails,mode='lines',name='weekly retain emails'))\n",
    "fig.add_trace(go.Scatter(x=date, y=weekly_retain_opens,mode='lines',name='weekly retain opens'))\n",
    "fig.add_trace(go.Scatter(x=date, y=weekly_retain_ct,mode='lines',name='weekly retain ct'))\n",
    "\n",
    "\n",
    "fig.update_layout(title='Weekly Email Activity',xaxis_title='Date')\n",
    "\n",
    "fig.write_html('Figures/Weekly_Email_Activity.html')\n",
    "fig.show()"
   ]
  },
  {
   "cell_type": "code",
   "execution_count": null,
   "metadata": {},
   "outputs": [],
   "source": [
    "weekly_rates = pandasql.sqldf(\"SELECT \\\n",
    "                                    week,\\\n",
    "                                    CAST(weekly_opens as float)/CAST(weekly_emails as float) as open_rate,  \\\n",
    "                                    CAST(weekly_ct as float)/CAST(weekly_opens as float) as ctr, \\\n",
    "                                    CAST(weekly_retain_opens as float)/CAST(weekly_retain_emails as float) as retain_open_rate, \\\n",
    "                                    CAST(weekly_retain_ct as float)/CAST(weekly_retain_opens as float) as retain_ctr \\\n",
    "                              FROM email_activity \\\n",
    "                              ORDER BY 1;\", globals()) \n",
    "weekly_rates.head()"
   ]
  },
  {
   "cell_type": "code",
   "execution_count": null,
   "metadata": {},
   "outputs": [],
   "source": [
    "date = weekly_rates['week']\n",
    "open_rate = weekly_rates['open_rate']\n",
    "ctr = weekly_rates['ctr']\n",
    "retain_open_rate = weekly_rates['retain_open_rate']\n",
    "retain_ctr = weekly_rates['retain_ctr']\n",
    "\n",
    "\n",
    "fig = go.Figure()\n",
    "fig.add_trace(go.Scatter(x=date, y=open_rate,mode='lines',name='email open rate'))\n",
    "fig.add_trace(go.Scatter(x=date, y=ctr,mode='lines',name='email ctr'))\n",
    "fig.add_trace(go.Scatter(x=date, y=retain_open_rate,mode='lines',name='retained open rate'))\n",
    "fig.add_trace(go.Scatter(x=date, y=retain_ctr,mode='lines',name='retained ctr'))\n",
    "\n",
    "\n",
    "fig.update_layout(title='Open and CTR Rates For Weekly and Re-engagement Emails',xaxis_title='Date')\n",
    "\n",
    "fig.write_html('Figures/Open_and_CTR_Rates.html')\n",
    "fig.show()"
   ]
  },
  {
   "cell_type": "markdown",
   "metadata": {},
   "source": [
    "##### 7. Engagement by Device/ Product\n",
    "It is also good to check if the drop in engagement rate is localized to a type of device. We'd want to compare laptops vs phones vs tablets and then perhaps iOS vs androids, or macs vs PCs."
   ]
  },
  {
   "cell_type": "code",
   "execution_count": null,
   "metadata": {},
   "outputs": [],
   "source": [
    "yammer_events['device'].drop_duplicates()"
   ]
  },
  {
   "cell_type": "code",
   "execution_count": null,
   "metadata": {},
   "outputs": [],
   "source": [
    "usage_device = pandasql.sqldf(\"SELECT   strftime('%Y-%m-%d', occurred_at,'weekday 1','-7 days') as week,\\\n",
    "                                        COUNT(DISTINCT user_id) as 'weekly active users',\\\n",
    "                                        COUNT(DISTINCT CASE WHEN device in ('iphone 5','iphone 4s','iphone 5s','nexus 5','samsung galaxy s4','htc one','nokia lumia 635','samsung galaxy note','amazon fire phone') THEN user_id ELSE NULL END) as 'Phone',\\\n",
    "                                        COUNT(DISTINCT CASE WHEN device in ('windows surface','kindle fire','ipad mini','samsumg galaxy tablet','ipad air','nexus 7','nexus 10') THEN user_id ELSE NULL END) as 'Tablet',\\\n",
    "                                        COUNT(DISTINCT CASE WHEN device in ('dell inspiron notebook','macbook air','macbook pro','lenovo thinkpad','acer aspire notebook','asus chromebook','acer aspire desktop','mac mini','hp pavilion desktop','dell inspiron desktop') THEN user_id ELSE NULL END) as 'Desktop'\\\n",
    "                                    FROM yammer_events\\\n",
    "                                    where event_type='engagement'\\\n",
    "                                    and occurred_at >= '2014-05-01'\\\n",
    "                                    and event_name = 'login'\\\n",
    "                                    GROUP BY 1\\\n",
    "                                    ORDER BY 1;\", globals()) \n",
    "usage_device.head()"
   ]
  },
  {
   "cell_type": "code",
   "execution_count": null,
   "metadata": {},
   "outputs": [],
   "source": [
    "week = usage_device['week']\n",
    "weekly_active = usage_device['weekly active users']\n",
    "phone = usage_device['Phone']\n",
    "tablet = usage_device['Tablet']\n",
    "desktop = usage_device['Desktop']\n",
    "\n",
    "fig = go.Figure()\n",
    "fig.add_trace(go.Scatter(x=week, y=weekly_active,mode='lines',name='weekly active users'))\n",
    "fig.add_trace(go.Scatter(x=week, y=phone,mode='lines',name='phone'))\n",
    "fig.add_trace(go.Scatter(x=week, y=tablet,mode='lines',name='tablet'))\n",
    "fig.add_trace(go.Scatter(x=week, y=desktop,mode='lines',name='desktop'))\n",
    "\n",
    "fig.update_layout(title='Engagement by Device Type',xaxis_title='Date')\n",
    "\n",
    "fig.write_html('Figures/Engagement_by_Device_Type.html')\n",
    "fig.show()"
   ]
  },
  {
   "cell_type": "code",
   "execution_count": null,
   "metadata": {},
   "outputs": [],
   "source": [
    "usage_phone = pandasql.sqldf(\"SELECT   strftime('%Y-%m-%d', occurred_at,'weekday 1','-7 days') as week,\\\n",
    "                                        COUNT(DISTINCT CASE WHEN device in ('iphone 5','iphone 4s','iphone 5s') THEN user_id ELSE NULL END) as 'iPhone',\\\n",
    "                                        COUNT(DISTINCT CASE WHEN device in ('nexus 5','samsung galaxy s4','htc one','nokia lumia 635','samsung galaxy note','amazon fire phone') THEN user_id ELSE NULL END) as 'Other'\\\n",
    "                                    FROM yammer_events\\\n",
    "                                    where event_type='engagement'\\\n",
    "                                    and occurred_at >= '2014-05-01'\\\n",
    "                                    and event_name = 'login'\\\n",
    "                                    GROUP BY 1\\\n",
    "                                    ORDER BY 1;\", globals()) \n",
    "usage_phone.head()"
   ]
  },
  {
   "cell_type": "code",
   "execution_count": null,
   "metadata": {},
   "outputs": [],
   "source": [
    "week = usage_phone['week']\n",
    "iPhone = usage_phone['iPhone']\n",
    "Other = usage_phone['Other']\n",
    "\n",
    "\n",
    "fig = go.Figure()\n",
    "fig.add_trace(go.Scatter(x=week, y=iPhone,mode='lines',name='iPhone'))\n",
    "fig.add_trace(go.Scatter(x=week, y=Other,mode='lines',name='Other'))\n",
    "\n",
    "fig.update_layout(title='Engagement by Phone Type',xaxis_title='Week')\n",
    "\n",
    "fig.write_html('Figures/Engagement_by_Phone_Type.html')\n",
    "fig.show()"
   ]
  }
 ],
 "metadata": {
  "kernelspec": {
   "display_name": "Python 3",
   "language": "python",
   "name": "python3"
  },
  "language_info": {
   "codemirror_mode": {
    "name": "ipython",
    "version": 3
   },
   "file_extension": ".py",
   "mimetype": "text/x-python",
   "name": "python",
   "nbconvert_exporter": "python",
   "pygments_lexer": "ipython3",
   "version": "3.7.4"
  }
 },
 "nbformat": 4,
 "nbformat_minor": 4
}
